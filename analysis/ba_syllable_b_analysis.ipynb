{
 "cells": [
  {
   "cell_type": "code",
   "execution_count": 6,
   "metadata": {
    "collapsed": true
   },
   "outputs": [],
   "source": [
    "import numpy as np\n",
    "import scipy.io.wavfile\n",
    "import scipy.signal\n",
    "import matplotlib.pyplot as plt\n",
    "import seaborn as sns\n",
    "from python_speech_features import mfcc\n",
    "%matplotlib inline"
   ]
  },
  {
   "cell_type": "code",
   "execution_count": 3,
   "metadata": {
    "collapsed": true
   },
   "outputs": [],
   "source": [
    "filename = 'ba_syllable_b'\n",
    "sr, signal = scipy.io.wavfile.read('../data/{}.wav'.format(filename))"
   ]
  },
  {
   "cell_type": "code",
   "execution_count": 4,
   "metadata": {
    "collapsed": true
   },
   "outputs": [],
   "source": [
    "f, t, Sxx = scipy.signal.spectrogram(signal, sr)"
   ]
  },
  {
   "cell_type": "code",
   "execution_count": 5,
   "metadata": {
    "collapsed": false
   },
   "outputs": [
    {
     "data": {
      "text/plain": [
       "<matplotlib.text.Text at 0x7fc4a0b94278>"
      ]
     },
     "execution_count": 5,
     "metadata": {},
     "output_type": "execute_result"
    },
    {
     "data": {
      "image/png": "[encoded data removed]",
      "text/plain": [
       "<matplotlib.figure.Figure at 0x7fc4a304b5c0>"
      ]
     },
     "metadata": {},
     "output_type": "display_data"
    }
   ],
   "source": [
    "upbound = np.max(np.where(f < 8000)[0])\n",
    "plt.pcolormesh(t, f[:upbound], Sxx[:upbound, ...])\n",
    "plt.ylabel('Frequency [Hz]')\n",
    "plt.xlabel('Time [s]')"
   ]
  },
  {
   "cell_type": "code",
   "execution_count": 11,
   "metadata": {
    "collapsed": false
   },
   "outputs": [
    {
     "name": "stdout",
     "output_type": "stream",
     "text": [
      "duration 0.04471655328798186\n"
     ]
    }
   ],
   "source": [
    "print (\"duration\", len(signal)/sr)"
   ]
  },
  {
   "cell_type": "code",
   "execution_count": 20,
   "metadata": {
    "collapsed": false
   },
   "outputs": [
    {
     "data": {
      "text/plain": [
       "array([[ -6.45184976e+00,  -6.14961926e+01,   2.97955679e+00,\n",
       "         -3.82654727e+00,  -1.11727197e+00,   1.56680993e+01,\n",
       "         -2.31129035e+01,   1.84170485e+01,   6.35784146e-02,\n",
       "          1.57738636e+00,   1.75786825e+00,  -1.48796569e+00],\n",
       "       [ -5.66366080e+00,  -5.08362553e+01,   6.47298153e+00,\n",
       "         -6.27195864e-01,  -1.03980193e+00,   9.45395010e+00,\n",
       "         -1.68808439e+01,   8.14863680e+00,   1.46596383e+00,\n",
       "         -3.52506510e-01,   3.97072877e+00,   6.39008638e-01],\n",
       "       [ -4.90920145e+00,  -6.24280892e+01,   1.40169454e+01,\n",
       "          1.68389497e+00,   2.15884088e-01,   9.44031999e+00,\n",
       "         -2.13651708e+01,   8.30043568e+00,  -1.70431187e+01,\n",
       "         -5.31538666e+00,  -9.92267058e+00,   3.86518992e+00],\n",
       "       [ -1.02075740e+01,  -5.33758606e+01,   4.41243009e+00,\n",
       "          6.41317769e+00,  -1.15668209e+01,   1.80950659e+00,\n",
       "         -2.51129644e+00,   1.40335101e+01,   6.52669559e+00,\n",
       "         -1.05401556e+01,  -1.76185194e+01,   1.71200432e+00],\n",
       "       [ -6.42903747e+00,  -5.89990162e+01,   7.47649576e+00,\n",
       "          1.20371975e+00,  -1.50991824e+01,   5.67752319e+00,\n",
       "         -2.00268954e+01,   2.28999019e+01,  -2.60973229e+00,\n",
       "         -5.61894324e+00,  -1.69781479e+01,  -4.08347275e+00],\n",
       "       [ -1.25578938e+01,  -6.63824601e+01,  -5.73086865e-01,\n",
       "         -5.90153802e+00,  -1.45004930e+01,   3.12600526e+00,\n",
       "         -3.42383698e+01,   2.15743271e+01,  -1.63539673e+01,\n",
       "         -3.71937368e+00,  -1.52845102e+01,  -9.31866989e+00],\n",
       "       [ -9.29351351e+00,  -5.52874598e+01,  -2.68117069e+00,\n",
       "         -3.73179417e+00,  -2.10740586e+00,   7.03294739e+00,\n",
       "         -3.28609247e+01,   1.75173781e+01,  -4.04906745e+00,\n",
       "          5.66752334e+00,  -1.13258424e+01,  -1.49753923e+01],\n",
       "       [ -8.47920406e+00,  -5.70624449e+01,  -1.01496476e+01,\n",
       "         -6.71305422e+00,  -8.95240289e+00,   1.68424792e+01,\n",
       "         -3.53220927e+01,   2.54420413e+01,  -4.65214114e+00,\n",
       "          1.06791672e+01,  -1.10736963e+01,  -1.98118991e+01]])"
      ]
     },
     "execution_count": 20,
     "metadata": {},
     "output_type": "execute_result"
    }
   ],
   "source": [
    "mfcc(signal, sr, winlen=0.01, winstep=0.005)[..., 1:]"
   ]
  },
  {
   "cell_type": "code",
   "execution_count": 9,
   "metadata": {
    "collapsed": false
   },
   "outputs": [
    {
     "name": "stdout",
     "output_type": "stream",
     "text": [
      "Help on function mfcc in module python_speech_features.base:\n",
      "\n",
      "mfcc(signal, samplerate=16000, winlen=0.025, winstep=0.01, numcep=13, nfilt=26, nfft=512, lowfreq=0, highfreq=None, preemph=0.97, ceplifter=22, appendEnergy=True, winfunc=<function <lambda> at 0x7fc4a0acab70>)\n",
      "    Compute MFCC features from an audio signal.\n",
      "    \n",
      "    :param signal: the audio signal from which to compute features. Should be an N*1 array\n",
      "    :param samplerate: the samplerate of the signal we are working with.\n",
      "    :param winlen: the length of the analysis window in seconds. Default is 0.025s (25 milliseconds)\n",
      "    :param winstep: the step between successive windows in seconds. Default is 0.01s (10 milliseconds)\n",
      "    :param numcep: the number of cepstrum to return, default 13\n",
      "    :param nfilt: the number of filters in the filterbank, default 26.\n",
      "    :param nfft: the FFT size. Default is 512.\n",
      "    :param lowfreq: lowest band edge of mel filters. In Hz, default is 0.\n",
      "    :param highfreq: highest band edge of mel filters. In Hz, default is samplerate/2\n",
      "    :param preemph: apply preemphasis filter with preemph as coefficient. 0 is no filter. Default is 0.97. \n",
      "    :param ceplifter: apply a lifter to final cepstral coefficients. 0 is no lifter. Default is 22. \n",
      "    :param appendEnergy: if this is true, the zeroth cepstral coefficient is replaced with the log of the total frame energy.\n",
      "    :param winfunc: the analysis window to apply to each frame. By default no window is applied.\n",
      "    :returns: A numpy array of size (NUMFRAMES by numcep) containing features. Each row holds 1 feature vector.\n",
      "\n"
     ]
    }
   ],
   "source": [
    "help(mfcc)"
   ]
  },
  {
   "cell_type": "code",
   "execution_count": null,
   "metadata": {
    "collapsed": true
   },
   "outputs": [],
   "source": []
  }
 ],
 "metadata": {
  "kernelspec": {
   "display_name": "Python 3",
   "language": "python",
   "name": "python3"
  },
  "language_info": {
   "codemirror_mode": {
    "name": "ipython",
    "version": 3
   },
   "file_extension": ".py",
   "mimetype": "text/x-python",
   "name": "python",
   "nbconvert_exporter": "python",
   "pygments_lexer": "ipython3",
   "version": "3.5.2"
  }
 },
 "nbformat": 4,
 "nbformat_minor": 1
}
