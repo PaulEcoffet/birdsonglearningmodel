{
 "cells": [
  {
   "cell_type": "markdown",
   "metadata": {},
   "source": [
    "# Evaluation of MFCC"
   ]
  },
  {
   "cell_type": "code",
   "execution_count": 2,
   "metadata": {
    "collapsed": true
   },
   "outputs": [],
   "source": [
    "import numpy as np\n",
    "import scipy.io.wavfile\n",
    "import scipy.signal\n",
    "import matplotlib.pyplot as plt\n",
    "import seaborn as sns\n",
    "from python_speech_features import mfcc\n",
    "%matplotlib inline"
   ]
  },
  {
   "cell_type": "code",
   "execution_count": 3,
   "metadata": {
    "collapsed": true
   },
   "outputs": [],
   "source": [
    "filename = 'ba_example'\n",
    "sr, tutor = scipy.io.wavfile.read('../data/{}.wav'.format(filename))\n",
    "sr, ba_learnt = scipy.io.wavfile.read('../csynthesizer/song_r3.III.wav')"
   ]
  },
  {
   "cell_type": "code",
   "execution_count": 13,
   "metadata": {
    "collapsed": false
   },
   "outputs": [],
   "source": [
    "t_mf = mfcc(tutor, samplerate=sr, numcep=4)"
   ]
  },
  {
   "cell_type": "code",
   "execution_count": 14,
   "metadata": {
    "collapsed": false
   },
   "outputs": [
    {
     "name": "stdout",
     "output_type": "stream",
     "text": [
      "[ 10.21074206 -29.16139319 -96.01472663 -13.67298071]\n",
      "[ 20.47607117   5.54361949 -31.15721375  52.20406423]\n",
      "[ 10.26532911  34.70501268  64.85751288  65.87704494]\n"
     ]
    }
   ],
   "source": [
    "print(np.min(t_mf, axis=0))\n",
    "print(np.max(t_mf, axis=0))\n",
    "print(np.max(t_mf, axis=0) - np.min(t_mf, axis=0))"
   ]
  },
  {
   "cell_type": "code",
   "execution_count": null,
   "metadata": {
    "collapsed": true
   },
   "outputs": [],
   "source": []
  },
  {
   "cell_type": "code",
   "execution_count": 5,
   "metadata": {
    "collapsed": false
   },
   "outputs": [
    {
     "name": "stdout",
     "output_type": "stream",
     "text": [
      "Help on function mfcc in module python_speech_features.base:\n",
      "\n",
      "mfcc(signal, samplerate=16000, winlen=0.025, winstep=0.01, numcep=13, nfilt=26, nfft=512, lowfreq=0, highfreq=None, preemph=0.97, ceplifter=22, appendEnergy=True, winfunc=<function <lambda> at 0x7f9fbf11ec80>)\n",
      "    Compute MFCC features from an audio signal.\n",
      "    \n",
      "    :param signal: the audio signal from which to compute features. Should be an N*1 array\n",
      "    :param samplerate: the samplerate of the signal we are working with.\n",
      "    :param winlen: the length of the analysis window in seconds. Default is 0.025s (25 milliseconds)\n",
      "    :param winstep: the step between successive windows in seconds. Default is 0.01s (10 milliseconds)\n",
      "    :param numcep: the number of cepstrum to return, default 13\n",
      "    :param nfilt: the number of filters in the filterbank, default 26.\n",
      "    :param nfft: the FFT size. Default is 512.\n",
      "    :param lowfreq: lowest band edge of mel filters. In Hz, default is 0.\n",
      "    :param highfreq: highest band edge of mel filters. In Hz, default is samplerate/2\n",
      "    :param preemph: apply preemphasis filter with preemph as coefficient. 0 is no filter. Default is 0.97. \n",
      "    :param ceplifter: apply a lifter to final cepstral coefficients. 0 is no lifter. Default is 22. \n",
      "    :param appendEnergy: if this is true, the zeroth cepstral coefficient is replaced with the log of the total frame energy.\n",
      "    :param winfunc: the analysis window to apply to each frame. By default no window is applied.\n",
      "    :returns: A numpy array of size (NUMFRAMES by numcep) containing features. Each row holds 1 feature vector.\n",
      "\n"
     ]
    }
   ],
   "source": [
    "help(mfcc)"
   ]
  },
  {
   "cell_type": "code",
   "execution_count": null,
   "metadata": {
    "collapsed": true
   },
   "outputs": [],
   "source": []
  }
 ],
 "metadata": {
  "kernelspec": {
   "display_name": "Python 3",
   "language": "python",
   "name": "python3"
  },
  "language_info": {
   "codemirror_mode": {
    "name": "ipython",
    "version": 3
   },
   "file_extension": ".py",
   "mimetype": "text/x-python",
   "name": "python",
   "nbconvert_exporter": "python",
   "pygments_lexer": "ipython3",
   "version": "3.5.2"
  }
 },
 "nbformat": 4,
 "nbformat_minor": 1
}
