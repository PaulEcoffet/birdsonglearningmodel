{
 "cells": [
  {
   "cell_type": "markdown",
   "metadata": {},
   "source": [
    "# Diversity test"
   ]
  },
  {
   "cell_type": "code",
   "execution_count": 79,
   "metadata": {},
   "outputs": [
    {
     "name": "stdout",
     "output_type": "stream",
     "text": [
      "Using matplotlib backend: TkAgg\n",
      "Populating the interactive namespace from numpy and matplotlib\n"
     ]
    }
   ],
   "source": [
    "%pylab --n\n",
    "%matplotlib inline\n",
    "\n",
    "import seaborn as sns\n",
    "import pandas as pd\n",
    "sns.set_palette('colorblind')\n",
    "import birdsonganalysis as bsa\n",
    "from os.path import join, exists, basename\n",
    "from scipy.io import wavfile\n",
    "import pickle\n",
    "import json\n",
    "from pprint import pprint\n",
    "import warnings\n",
    "from IPython.display import Audio, display, Markdown\n",
    "\n",
    "import sys\n",
    "\n",
    "sys.path.append('../model/')\n",
    "\n",
    "from song_fitter import SongModel, get_scores\n",
    "import synth\n",
    "from synth import synthesize\n",
    "from measures import bsa_measure\n",
    "\n",
    "def comp(a, b):\n",
    "    return np.linalg.norm(a - b)"
   ]
  },
  {
   "cell_type": "code",
   "execution_count": 80,
   "metadata": {},
   "outputs": [
    {
     "name": "stderr",
     "output_type": "stream",
     "text": [
      "/home/ecoffet/.virtualenvs/birdsongs/lib/python3.5/site-packages/ipykernel_launcher.py:5: UserWarning: Run is not finished\n",
      "  \"\"\"\n"
     ]
    }
   ],
   "source": [
    "path = '../model/res/microbial_extended_diversity_test_170512_170035/'\n",
    "if exists(join(path, 'aborted.txt')):\n",
    "    warnings.warn('Aborted run')\n",
    "if not exists(join(path, 'data.pkl')):\n",
    "    warnings.warn('Run is not finished')"
   ]
  },
  {
   "cell_type": "code",
   "execution_count": 81,
   "metadata": {},
   "outputs": [],
   "source": [
    "sr, tutor = wavfile.read(join(path, 'tutor.wav'))\n",
    "try:\n",
    "    with open(join(path, 'conf.json'), 'r') as f:\n",
    "        run_param = json.load(f)\n",
    "except FileNotFoundError:\n",
    "    with open(join(path, 'params.json'), 'r') as f:\n",
    "        run_param = json.load(f)"
   ]
  },
  {
   "cell_type": "code",
   "execution_count": 82,
   "metadata": {},
   "outputs": [
    {
     "data": {
      "text/markdown": [
       "| key | value |\n",
       "|---|---|\n",
       "| #comment | ['def of sin param : (a * t + b) * sin((t + phase) * f * 2 * pi)', 'Format of each list', '```', '#alpha', 'a, b, phase, f  #sin 1', 'a, b, phase, f  #sin 2', 'a, b, phase, f  #sin 3', 'cst', '#beta', 'a, b, phase, f, cst', '```', 'really ugly way to comment in json, sorry.'] |\n",
       "| coefs | {'fm': 1, 'goodness': 1, 'pitch': 1, 'am': 1, 'entropy': 1, 'amplitude': 1} |\n",
       "| commit | 730df956c25af5fdf83bae6faad74407072f7499 |\n",
       "| comp | linalg |\n",
       "| concurrent | 10 |\n",
       "| days | 50 |\n",
       "| dev | [0.1, 0.1, 0.05, 1, 0.05, 0.05, 0.05, 1, 0.001, 0.001, 0.005, 100, 0.2, 0.05, 0.01, 0.05, 1, 0.005] |\n",
       "| dlm | optimise_gesture_padded |\n",
       "| iter_per_train | 20 |\n",
       "| maxs | [50, 4, 3.141592653589793, 40000, 50, 4, 3.141592653589793, 40000, 50, 5, 3.141592653589793, 40000, 10, 50, 3, 3.141592653589793, 1000, 2] |\n",
       "| mins | [-50, 0, -3.141592653589793, 0, -50, 0, -3.141592653589793, 0, -50, 0, -3.141592653589793, 0, -5, -50, 0, -3.141592653589793, 0, -3] |\n",
       "| name | microbial_extended_diversity_test |\n",
       "| nb_pad | 2 |\n",
       "| night_concurrent | 50 |\n",
       "| nlm | mutate_microbial_extended_uniform |\n",
       "| prior | [0, 0, 3.141592653589793, 15, 0, 0, 0.39269908169872414, 45, 0, 0, 0, 5000, 0.0, 0, 0, 0, 0, 0] |\n",
       "| replay | 200 |\n",
       "| seed | 1494601235 |\n",
       "| train_per_day | 100 |\n",
       "| tutor | ../data/ba_example.wav |"
      ],
      "text/plain": [
       "<IPython.core.display.Markdown object>"
      ]
     },
     "metadata": {},
     "output_type": "display_data"
    }
   ],
   "source": [
    "out = '| key | value |\\n|---|---|\\n' + '\\n'.join(['| {} | {} |'.format(key, run_param[key]) for key in sorted(run_param.keys())])\n",
    "display(Markdown(out))"
   ]
  },
  {
   "cell_type": "code",
   "execution_count": 83,
   "metadata": {},
   "outputs": [
    {
     "name": "stderr",
     "output_type": "stream",
     "text": [
      "/home/ecoffet/.virtualenvs/birdsongs/lib/python3.5/site-packages/ipykernel_launcher.py:5: UserWarning: warning, learning not over\n",
      "  \"\"\"\n"
     ]
    }
   ],
   "source": [
    "try:\n",
    "    with open(join(path, 'data.pkl'), 'rb') as f:\n",
    "        songlog = pickle.load(f)\n",
    "except FileNotFoundError:\n",
    "    warnings.warn('warning, learning not over')\n",
    "    with open(join(path, 'data_cur.pkl'), 'rb') as f:\n",
    "        songlog = pickle.load(f)"
   ]
  },
  {
   "cell_type": "code",
   "execution_count": 84,
   "metadata": {
    "collapsed": true
   },
   "outputs": [],
   "source": [
    "night_data = [item[1] for item in songlog if item[0] == 'night']\n",
    "nd = pd.DataFrame(night_data)"
   ]
  },
  {
   "cell_type": "code",
   "execution_count": 85,
   "metadata": {},
   "outputs": [
    {
     "data": {
      "text/html": [
       "<div>\n",
       "<table border=\"1\" class=\"dataframe\">\n",
       "  <thead>\n",
       "    <tr style=\"text-align: right;\">\n",
       "      <th></th>\n",
       "      <th>cond</th>\n",
       "      <th>pop</th>\n",
       "    </tr>\n",
       "  </thead>\n",
       "  <tbody>\n",
       "    <tr>\n",
       "      <th>0</th>\n",
       "      <td>before_evening</td>\n",
       "      <td>[&lt;song_model.SongModel object at 0x7fb81c6fc4e...</td>\n",
       "    </tr>\n",
       "    <tr>\n",
       "      <th>1</th>\n",
       "      <td>evening</td>\n",
       "      <td>[&lt;song_model.SongModel object at 0x7fb81c770d6...</td>\n",
       "    </tr>\n",
       "    <tr>\n",
       "      <th>2</th>\n",
       "      <td>before_morning</td>\n",
       "      <td>[&lt;song_model.SongModel object at 0x7fb81c6c52b...</td>\n",
       "    </tr>\n",
       "    <tr>\n",
       "      <th>3</th>\n",
       "      <td>morning</td>\n",
       "      <td>[&lt;song_model.SongModel object at 0x7fb81636cb7...</td>\n",
       "    </tr>\n",
       "    <tr>\n",
       "      <th>4</th>\n",
       "      <td>before_evening</td>\n",
       "      <td>[&lt;song_model.SongModel object at 0x7fb8163090b...</td>\n",
       "    </tr>\n",
       "    <tr>\n",
       "      <th>5</th>\n",
       "      <td>evening</td>\n",
       "      <td>[&lt;song_model.SongModel object at 0x7fb8162bc20...</td>\n",
       "    </tr>\n",
       "    <tr>\n",
       "      <th>6</th>\n",
       "      <td>before_morning</td>\n",
       "      <td>[&lt;song_model.SongModel object at 0x7fb8161b974...</td>\n",
       "    </tr>\n",
       "    <tr>\n",
       "      <th>7</th>\n",
       "      <td>morning</td>\n",
       "      <td>[&lt;song_model.SongModel object at 0x7fb8160b658...</td>\n",
       "    </tr>\n",
       "    <tr>\n",
       "      <th>8</th>\n",
       "      <td>before_evening</td>\n",
       "      <td>[&lt;song_model.SongModel object at 0x7fb81604e66...</td>\n",
       "    </tr>\n",
       "    <tr>\n",
       "      <th>9</th>\n",
       "      <td>evening</td>\n",
       "      <td>[&lt;song_model.SongModel object at 0x7fb81600166...</td>\n",
       "    </tr>\n",
       "    <tr>\n",
       "      <th>10</th>\n",
       "      <td>before_morning</td>\n",
       "      <td>[&lt;song_model.SongModel object at 0x7fb815efd82...</td>\n",
       "    </tr>\n",
       "    <tr>\n",
       "      <th>11</th>\n",
       "      <td>morning</td>\n",
       "      <td>[&lt;song_model.SongModel object at 0x7fb815df05f...</td>\n",
       "    </tr>\n",
       "    <tr>\n",
       "      <th>12</th>\n",
       "      <td>before_evening</td>\n",
       "      <td>[&lt;song_model.SongModel object at 0x7fb815d8182...</td>\n",
       "    </tr>\n",
       "    <tr>\n",
       "      <th>13</th>\n",
       "      <td>evening</td>\n",
       "      <td>[&lt;song_model.SongModel object at 0x7fb815d3335...</td>\n",
       "    </tr>\n",
       "    <tr>\n",
       "      <th>14</th>\n",
       "      <td>before_morning</td>\n",
       "      <td>[&lt;song_model.SongModel object at 0x7fb815c269e...</td>\n",
       "    </tr>\n",
       "    <tr>\n",
       "      <th>15</th>\n",
       "      <td>morning</td>\n",
       "      <td>[&lt;song_model.SongModel object at 0x7fb815b9658...</td>\n",
       "    </tr>\n",
       "  </tbody>\n",
       "</table>\n",
       "</div>"
      ],
      "text/plain": [
       "              cond                                                pop\n",
       "0   before_evening  [<song_model.SongModel object at 0x7fb81c6fc4e...\n",
       "1          evening  [<song_model.SongModel object at 0x7fb81c770d6...\n",
       "2   before_morning  [<song_model.SongModel object at 0x7fb81c6c52b...\n",
       "3          morning  [<song_model.SongModel object at 0x7fb81636cb7...\n",
       "4   before_evening  [<song_model.SongModel object at 0x7fb8163090b...\n",
       "5          evening  [<song_model.SongModel object at 0x7fb8162bc20...\n",
       "6   before_morning  [<song_model.SongModel object at 0x7fb8161b974...\n",
       "7          morning  [<song_model.SongModel object at 0x7fb8160b658...\n",
       "8   before_evening  [<song_model.SongModel object at 0x7fb81604e66...\n",
       "9          evening  [<song_model.SongModel object at 0x7fb81600166...\n",
       "10  before_morning  [<song_model.SongModel object at 0x7fb815efd82...\n",
       "11         morning  [<song_model.SongModel object at 0x7fb815df05f...\n",
       "12  before_evening  [<song_model.SongModel object at 0x7fb815d8182...\n",
       "13         evening  [<song_model.SongModel object at 0x7fb815d3335...\n",
       "14  before_morning  [<song_model.SongModel object at 0x7fb815c269e...\n",
       "15         morning  [<song_model.SongModel object at 0x7fb815b9658..."
      ]
     },
     "execution_count": 85,
     "metadata": {},
     "output_type": "execute_result"
    }
   ],
   "source": [
    "nd"
   ]
  },
  {
   "cell_type": "code",
   "execution_count": 86,
   "metadata": {},
   "outputs": [
    {
     "name": "stdout",
     "output_type": "stream",
     "text": [
      "0\n",
      "1\n",
      "2\n",
      "3\n",
      "4\n",
      "5\n",
      "6\n",
      "7\n",
      "8\n",
      "9\n",
      "10\n",
      "11\n",
      "12\n",
      "13\n",
      "14\n",
      "15\n"
     ]
    }
   ],
   "source": [
    "scores = []\n",
    "for i, row in nd.iterrows():\n",
    "    print (i)\n",
    "    scores.append(get_scores(tutor, nd.iloc[i]['pop'], lambda x: bsa_measure(x, sr, coefs=run_param['coefs']), comp))\n",
    "nd['scores'] = scores"
   ]
  },
  {
   "cell_type": "code",
   "execution_count": 87,
   "metadata": {},
   "outputs": [
    {
     "data": {
      "text/html": [
       "<div>\n",
       "<table border=\"1\" class=\"dataframe\">\n",
       "  <thead>\n",
       "    <tr style=\"text-align: right;\">\n",
       "      <th></th>\n",
       "      <th>cond</th>\n",
       "      <th>pop</th>\n",
       "      <th>scores</th>\n",
       "    </tr>\n",
       "  </thead>\n",
       "  <tbody>\n",
       "    <tr>\n",
       "      <th>0</th>\n",
       "      <td>before_evening</td>\n",
       "      <td>[&lt;song_model.SongModel object at 0x7fb81c6fc4e...</td>\n",
       "      <td>[247.631426015, 320.892747632, 238.239833018, ...</td>\n",
       "    </tr>\n",
       "    <tr>\n",
       "      <th>1</th>\n",
       "      <td>evening</td>\n",
       "      <td>[&lt;song_model.SongModel object at 0x7fb81c770d6...</td>\n",
       "      <td>[233.901366567, 322.547756971, 245.847051424, ...</td>\n",
       "    </tr>\n",
       "    <tr>\n",
       "      <th>2</th>\n",
       "      <td>before_morning</td>\n",
       "      <td>[&lt;song_model.SongModel object at 0x7fb81c6c52b...</td>\n",
       "      <td>[223.566673879, 223.566673879, 223.566673879, ...</td>\n",
       "    </tr>\n",
       "    <tr>\n",
       "      <th>3</th>\n",
       "      <td>morning</td>\n",
       "      <td>[&lt;song_model.SongModel object at 0x7fb81636cb7...</td>\n",
       "      <td>[223.582253937, 223.566673879, 225.31234418, 2...</td>\n",
       "    </tr>\n",
       "    <tr>\n",
       "      <th>4</th>\n",
       "      <td>before_evening</td>\n",
       "      <td>[&lt;song_model.SongModel object at 0x7fb8163090b...</td>\n",
       "      <td>[234.51138602, 223.269300739, 230.953158459, 2...</td>\n",
       "    </tr>\n",
       "    <tr>\n",
       "      <th>5</th>\n",
       "      <td>evening</td>\n",
       "      <td>[&lt;song_model.SongModel object at 0x7fb8162bc20...</td>\n",
       "      <td>[220.360012947, 223.269300739, 234.36398093, 2...</td>\n",
       "    </tr>\n",
       "    <tr>\n",
       "      <th>6</th>\n",
       "      <td>before_morning</td>\n",
       "      <td>[&lt;song_model.SongModel object at 0x7fb8161b974...</td>\n",
       "      <td>[211.477163579, 212.887601372, 211.944052729, ...</td>\n",
       "    </tr>\n",
       "    <tr>\n",
       "      <th>7</th>\n",
       "      <td>morning</td>\n",
       "      <td>[&lt;song_model.SongModel object at 0x7fb8160b658...</td>\n",
       "      <td>[211.477163579, 208.713127887, 208.738436352, ...</td>\n",
       "    </tr>\n",
       "    <tr>\n",
       "      <th>8</th>\n",
       "      <td>before_evening</td>\n",
       "      <td>[&lt;song_model.SongModel object at 0x7fb81604e66...</td>\n",
       "      <td>[217.083462969, 211.232830738, 207.229599132, ...</td>\n",
       "    </tr>\n",
       "    <tr>\n",
       "      <th>9</th>\n",
       "      <td>evening</td>\n",
       "      <td>[&lt;song_model.SongModel object at 0x7fb81600166...</td>\n",
       "      <td>[210.757379778, 205.128030281, 210.547486656, ...</td>\n",
       "    </tr>\n",
       "    <tr>\n",
       "      <th>10</th>\n",
       "      <td>before_morning</td>\n",
       "      <td>[&lt;song_model.SongModel object at 0x7fb815efd82...</td>\n",
       "      <td>[203.47058926, 203.47058926, 202.899688656, 20...</td>\n",
       "    </tr>\n",
       "    <tr>\n",
       "      <th>11</th>\n",
       "      <td>morning</td>\n",
       "      <td>[&lt;song_model.SongModel object at 0x7fb815df05f...</td>\n",
       "      <td>[203.981010976, 204.254871703, 203.47058926, 2...</td>\n",
       "    </tr>\n",
       "    <tr>\n",
       "      <th>12</th>\n",
       "      <td>before_evening</td>\n",
       "      <td>[&lt;song_model.SongModel object at 0x7fb815d8182...</td>\n",
       "      <td>[249.953235927, 203.492400621, 211.068866645, ...</td>\n",
       "    </tr>\n",
       "    <tr>\n",
       "      <th>13</th>\n",
       "      <td>evening</td>\n",
       "      <td>[&lt;song_model.SongModel object at 0x7fb815d3335...</td>\n",
       "      <td>[227.231076874, 218.196756057, 217.80225096, 2...</td>\n",
       "    </tr>\n",
       "    <tr>\n",
       "      <th>14</th>\n",
       "      <td>before_morning</td>\n",
       "      <td>[&lt;song_model.SongModel object at 0x7fb815c269e...</td>\n",
       "      <td>[195.432454384, 195.360153513, 198.541707713, ...</td>\n",
       "    </tr>\n",
       "    <tr>\n",
       "      <th>15</th>\n",
       "      <td>morning</td>\n",
       "      <td>[&lt;song_model.SongModel object at 0x7fb815b9658...</td>\n",
       "      <td>[197.956681126, 195.361039771, 195.432454384, ...</td>\n",
       "    </tr>\n",
       "  </tbody>\n",
       "</table>\n",
       "</div>"
      ],
      "text/plain": [
       "              cond                                                pop  \\\n",
       "0   before_evening  [<song_model.SongModel object at 0x7fb81c6fc4e...   \n",
       "1          evening  [<song_model.SongModel object at 0x7fb81c770d6...   \n",
       "2   before_morning  [<song_model.SongModel object at 0x7fb81c6c52b...   \n",
       "3          morning  [<song_model.SongModel object at 0x7fb81636cb7...   \n",
       "4   before_evening  [<song_model.SongModel object at 0x7fb8163090b...   \n",
       "5          evening  [<song_model.SongModel object at 0x7fb8162bc20...   \n",
       "6   before_morning  [<song_model.SongModel object at 0x7fb8161b974...   \n",
       "7          morning  [<song_model.SongModel object at 0x7fb8160b658...   \n",
       "8   before_evening  [<song_model.SongModel object at 0x7fb81604e66...   \n",
       "9          evening  [<song_model.SongModel object at 0x7fb81600166...   \n",
       "10  before_morning  [<song_model.SongModel object at 0x7fb815efd82...   \n",
       "11         morning  [<song_model.SongModel object at 0x7fb815df05f...   \n",
       "12  before_evening  [<song_model.SongModel object at 0x7fb815d8182...   \n",
       "13         evening  [<song_model.SongModel object at 0x7fb815d3335...   \n",
       "14  before_morning  [<song_model.SongModel object at 0x7fb815c269e...   \n",
       "15         morning  [<song_model.SongModel object at 0x7fb815b9658...   \n",
       "\n",
       "                                               scores  \n",
       "0   [247.631426015, 320.892747632, 238.239833018, ...  \n",
       "1   [233.901366567, 322.547756971, 245.847051424, ...  \n",
       "2   [223.566673879, 223.566673879, 223.566673879, ...  \n",
       "3   [223.582253937, 223.566673879, 225.31234418, 2...  \n",
       "4   [234.51138602, 223.269300739, 230.953158459, 2...  \n",
       "5   [220.360012947, 223.269300739, 234.36398093, 2...  \n",
       "6   [211.477163579, 212.887601372, 211.944052729, ...  \n",
       "7   [211.477163579, 208.713127887, 208.738436352, ...  \n",
       "8   [217.083462969, 211.232830738, 207.229599132, ...  \n",
       "9   [210.757379778, 205.128030281, 210.547486656, ...  \n",
       "10  [203.47058926, 203.47058926, 202.899688656, 20...  \n",
       "11  [203.981010976, 204.254871703, 203.47058926, 2...  \n",
       "12  [249.953235927, 203.492400621, 211.068866645, ...  \n",
       "13  [227.231076874, 218.196756057, 217.80225096, 2...  \n",
       "14  [195.432454384, 195.360153513, 198.541707713, ...  \n",
       "15  [197.956681126, 195.361039771, 195.432454384, ...  "
      ]
     },
     "execution_count": 87,
     "metadata": {},
     "output_type": "execute_result"
    }
   ],
   "source": [
    "nd"
   ]
  },
  {
   "cell_type": "code",
   "execution_count": 88,
   "metadata": {},
   "outputs": [],
   "source": [
    "songs_score = []\n",
    "for i, row in nd.iterrows():\n",
    "    for song, score in zip(nd.iloc[i]['pop'], nd.iloc[i]['scores']):\n",
    "        songs_score.append({'i': i, 'score': score, 'cond': nd.iloc[i]['cond']})\n",
    "\n",
    "scores_df = pd.DataFrame(songs_score)"
   ]
  },
  {
   "cell_type": "code",
   "execution_count": 93,
   "metadata": {},
   "outputs": [
    {
     "data": {
      "text/plain": [
       "<matplotlib.collections.PathCollection at 0x7fb816510e80>"
      ]
     },
     "execution_count": 93,
     "metadata": {},
     "output_type": "execute_result"
    },
    {
     "data": {
      "image/png": "[encoded data removed]",
      "text/plain": [
       "<matplotlib.figure.Figure at 0x7fb81c6b6b70>"
      ]
     },
     "metadata": {},
     "output_type": "display_data"
    }
   ],
   "source": [
    "plt.figure(figsize=(14, 6))\n",
    "plt.scatter(scores_df['i'], scores_df['score'])"
   ]
  },
  {
   "cell_type": "code",
   "execution_count": 90,
   "metadata": {
    "collapsed": true
   },
   "outputs": [],
   "source": [
    "songs = nd.iloc[2]['pop']"
   ]
  },
  {
   "cell_type": "code",
   "execution_count": 100,
   "metadata": {
    "collapsed": true
   },
   "outputs": [],
   "source": [
    "from bisect import bisect_left"
   ]
  },
  {
   "cell_type": "code",
   "execution_count": 102,
   "metadata": {},
   "outputs": [
    {
     "name": "stdout",
     "output_type": "stream",
     "text": [
      "100 loops, best of 3: 10.9 ms per loop\n"
     ]
    }
   ],
   "source": [
    "nb_close = 0\n",
    "for isong, song in enumerate(songs[1:]):\n",
    "    song_dist = 0\n",
    "    other = [gesture[0] for gesture in song.gestures]\n",
    "    for i, gesture in enumerate(songs[0].gestures):\n",
    "        start = gesture[0]\n",
    "        near_i = bisect_left(other, start)\n",
    "        if near_i >= len(other) - 1:\n",
    "            near_i = len(other) - 2\n",
    "        cur_dist = np.min((np.abs(start - other[near_i]), np.abs(start - other[near_i+1])))\n",
    "        song_dist += cur_dist\n",
    "    if song_dist < 2000:\n",
    "        nb_close += 1\n"
   ]
  },
  {
   "cell_type": "code",
   "execution_count": null,
   "metadata": {
    "collapsed": true
   },
   "outputs": [],
   "source": []
  }
 ],
 "metadata": {
  "kernelspec": {
   "display_name": "Python 3",
   "language": "python",
   "name": "python3"
  },
  "language_info": {
   "codemirror_mode": {
    "name": "ipython",
    "version": 3
   },
   "file_extension": ".py",
   "mimetype": "text/x-python",
   "name": "python",
   "nbconvert_exporter": "python",
   "pygments_lexer": "ipython3",
   "version": "3.5.3"
  }
 },
 "nbformat": 4,
 "nbformat_minor": 2
}
