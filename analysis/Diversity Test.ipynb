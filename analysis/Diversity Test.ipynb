{
 "cells": [
  {
   "cell_type": "markdown",
   "metadata": {},
   "source": [
    "# Diversity test"
   ]
  },
  {
   "cell_type": "code",
   "execution_count": 2,
   "metadata": {},
   "outputs": [
    {
     "name": "stdout",
     "output_type": "stream",
     "text": [
      "Using matplotlib backend: TkAgg\n",
      "Populating the interactive namespace from numpy and matplotlib\n"
     ]
    }
   ],
   "source": [
    "%pylab --n\n",
    "%matplotlib inline\n",
    "\n",
    "import seaborn as sns\n",
    "import pandas as pd\n",
    "sns.set_palette('colorblind')\n",
    "import birdsonganalysis as bsa\n",
    "from os.path import join, exists, basename\n",
    "from scipy.io import wavfile\n",
    "import pickle\n",
    "import json\n",
    "from pprint import pprint\n",
    "import warnings\n",
    "from IPython.display import Audio, display, Markdown\n",
    "\n",
    "import sys\n",
    "\n",
    "sys.path.append('../model/')\n",
    "\n",
    "from song_fitter import SongModel, get_scores\n",
    "import synth\n",
    "from synth import synthesize\n",
    "from measures import bsa_measure\n",
    "\n",
    "def comp(a, b):\n",
    "    return np.linalg.norm(a - b)"
   ]
  },
  {
   "cell_type": "code",
   "execution_count": 3,
   "metadata": {},
   "outputs": [
    {
     "name": "stderr",
     "output_type": "stream",
     "text": [
      "/home/ecoffet/.virtualenvs/birdsongs/lib/python3.5/site-packages/ipykernel_launcher.py:5: UserWarning: Run is not finished\n",
      "  \"\"\"\n"
     ]
    }
   ],
   "source": [
    "path = '../model/res/seed0+big_ba+on_alpha_silence_beta+prior_amp_entropy+slow_dev+20_replay+10_conc+1_day_conc_170512_191538/'\n",
    "if exists(join(path, 'aborted.txt')):\n",
    "    warnings.warn('Aborted run')\n",
    "if not exists(join(path, 'data.pkl')):\n",
    "    warnings.warn('Run is not finished')"
   ]
  },
  {
   "cell_type": "code",
   "execution_count": 4,
   "metadata": {
    "collapsed": true
   },
   "outputs": [],
   "source": [
    "sr, tutor = wavfile.read(join(path, 'tutor.wav'))\n",
    "try:\n",
    "    with open(join(path, 'conf.json'), 'r') as f:\n",
    "        run_param = json.load(f)\n",
    "except FileNotFoundError:\n",
    "    with open(join(path, 'params.json'), 'r') as f:\n",
    "        run_param = json.load(f)"
   ]
  },
  {
   "cell_type": "code",
   "execution_count": 5,
   "metadata": {},
   "outputs": [
    {
     "data": {
      "text/markdown": [
       "| key | value |\n",
       "|---|---|\n",
       "| #comment | ['def of sin param : (a * t + b) * sin((t + phase) * f * 2 * pi)', 'Format of each list', '```', '#alpha', 'a, b, phase, f  #sin 1', 'a, b, phase, f  #sin 2', 'a, b, phase, f  #sin 3', 'cst', '#beta', 'a, b, phase, f, cst', '```', 'really ugly way to comment in json, sorry.'] |\n",
       "| coefs | {'fm': 1, 'pitch': 1, 'goodness': 1, 'entropy': 1, 'am': 1, 'amplitude': 1} |\n",
       "| commit | 661bd6a1c2c266fc1542ca2b03bdc876d5274721 |\n",
       "| comp | linalg |\n",
       "| concurrent | 1 |\n",
       "| days | 50 |\n",
       "| dev | [0.1, 0.1, 0.05, 1, 0.05, 0.05, 0.05, 1, 0.001, 0.001, 0.005, 100, 0.2, 0.05, 0.01, 0.05, 1, 0.005] |\n",
       "| dlm | optimise_gesture_padded |\n",
       "| iter_per_train | 20 |\n",
       "| maxs | [50, 4, 3.141592653589793, 40000, 50, 4, 3.141592653589793, 40000, 50, 5, 3.141592653589793, 40000, 10, 50, 3, 3.141592653589793, 1000, 2] |\n",
       "| mins | [-50, 0, -3.141592653589793, 0, -50, 0, -3.141592653589793, 0, -50, 0, -3.141592653589793, 0, -5, -50, 0, -3.141592653589793, 0, -3] |\n",
       "| name | seed0+big_ba+on_alpha_silence_beta+prior_amp_entropy+slow_dev+20_replay+10_conc+1_day_conc |\n",
       "| nb_pad | 3 |\n",
       "| night_concurrent | 10 |\n",
       "| nlm | mutate_microbial_diversity_uniform |\n",
       "| prior | [0, 0, 3.141592653589793, 15, 0, 0, 0.39269908169872414, 45, 0, 0, 0, 5000, 0.0, 0, 0, 0, 0, 0] |\n",
       "| replay | 20 |\n",
       "| seed | 1494609338 |\n",
       "| train_per_day | 2 |\n",
       "| tutor | ../data/ba_example.wav |"
      ],
      "text/plain": [
       "<IPython.core.display.Markdown object>"
      ]
     },
     "metadata": {},
     "output_type": "display_data"
    }
   ],
   "source": [
    "out = '| key | value |\\n|---|---|\\n' + '\\n'.join(['| {} | {} |'.format(key, run_param[key]) for key in sorted(run_param.keys())])\n",
    "display(Markdown(out))"
   ]
  },
  {
   "cell_type": "code",
   "execution_count": 6,
   "metadata": {},
   "outputs": [
    {
     "name": "stderr",
     "output_type": "stream",
     "text": [
      "/home/ecoffet/.virtualenvs/birdsongs/lib/python3.5/site-packages/ipykernel_launcher.py:5: UserWarning: warning, learning not over\n",
      "  \"\"\"\n"
     ]
    }
   ],
   "source": [
    "try:\n",
    "    with open(join(path, 'data.pkl'), 'rb') as f:\n",
    "        songlog = pickle.load(f)\n",
    "except FileNotFoundError:\n",
    "    warnings.warn('warning, learning not over')\n",
    "    with open(join(path, 'data_cur.pkl'), 'rb') as f:\n",
    "        songlog = pickle.load(f)"
   ]
  },
  {
   "cell_type": "code",
   "execution_count": 7,
   "metadata": {
    "collapsed": true
   },
   "outputs": [],
   "source": [
    "night_data = [item[1] for item in songlog if item[0] == 'night']\n",
    "nd = pd.DataFrame(night_data)"
   ]
  },
  {
   "cell_type": "code",
   "execution_count": 8,
   "metadata": {},
   "outputs": [
    {
     "data": {
      "text/html": [
       "<div>\n",
       "<table border=\"1\" class=\"dataframe\">\n",
       "  <thead>\n",
       "    <tr style=\"text-align: right;\">\n",
       "      <th></th>\n",
       "      <th>cond</th>\n",
       "      <th>pop</th>\n",
       "    </tr>\n",
       "  </thead>\n",
       "  <tbody>\n",
       "    <tr>\n",
       "      <th>0</th>\n",
       "      <td>before_evening</td>\n",
       "      <td>[&lt;song_model.SongModel object at 0x7f4a23be3208&gt;]</td>\n",
       "    </tr>\n",
       "    <tr>\n",
       "      <th>1</th>\n",
       "      <td>evening</td>\n",
       "      <td>[&lt;song_model.SongModel object at 0x7f4a64c0bc5...</td>\n",
       "    </tr>\n",
       "    <tr>\n",
       "      <th>2</th>\n",
       "      <td>before_morning</td>\n",
       "      <td>[&lt;song_model.SongModel object at 0x7f4a23c2874...</td>\n",
       "    </tr>\n",
       "    <tr>\n",
       "      <th>3</th>\n",
       "      <td>morning</td>\n",
       "      <td>[&lt;song_model.SongModel object at 0x7f4a23506518&gt;]</td>\n",
       "    </tr>\n",
       "    <tr>\n",
       "      <th>4</th>\n",
       "      <td>before_evening</td>\n",
       "      <td>[&lt;song_model.SongModel object at 0x7f4a2351a2e8&gt;]</td>\n",
       "    </tr>\n",
       "    <tr>\n",
       "      <th>5</th>\n",
       "      <td>evening</td>\n",
       "      <td>[&lt;song_model.SongModel object at 0x7f4a235201d...</td>\n",
       "    </tr>\n",
       "    <tr>\n",
       "      <th>6</th>\n",
       "      <td>before_morning</td>\n",
       "      <td>[&lt;song_model.SongModel object at 0x7f4a234d2e8...</td>\n",
       "    </tr>\n",
       "    <tr>\n",
       "      <th>7</th>\n",
       "      <td>morning</td>\n",
       "      <td>[&lt;song_model.SongModel object at 0x7f4a2348cda0&gt;]</td>\n",
       "    </tr>\n",
       "    <tr>\n",
       "      <th>8</th>\n",
       "      <td>before_evening</td>\n",
       "      <td>[&lt;song_model.SongModel object at 0x7f4a2349fdd8&gt;]</td>\n",
       "    </tr>\n",
       "    <tr>\n",
       "      <th>9</th>\n",
       "      <td>evening</td>\n",
       "      <td>[&lt;song_model.SongModel object at 0x7f4a234a6da...</td>\n",
       "    </tr>\n",
       "    <tr>\n",
       "      <th>10</th>\n",
       "      <td>before_morning</td>\n",
       "      <td>[&lt;song_model.SongModel object at 0x7f4a2346347...</td>\n",
       "    </tr>\n",
       "    <tr>\n",
       "      <th>11</th>\n",
       "      <td>morning</td>\n",
       "      <td>[&lt;song_model.SongModel object at 0x7f4a2341bb70&gt;]</td>\n",
       "    </tr>\n",
       "  </tbody>\n",
       "</table>\n",
       "</div>"
      ],
      "text/plain": [
       "              cond                                                pop\n",
       "0   before_evening  [<song_model.SongModel object at 0x7f4a23be3208>]\n",
       "1          evening  [<song_model.SongModel object at 0x7f4a64c0bc5...\n",
       "2   before_morning  [<song_model.SongModel object at 0x7f4a23c2874...\n",
       "3          morning  [<song_model.SongModel object at 0x7f4a23506518>]\n",
       "4   before_evening  [<song_model.SongModel object at 0x7f4a2351a2e8>]\n",
       "5          evening  [<song_model.SongModel object at 0x7f4a235201d...\n",
       "6   before_morning  [<song_model.SongModel object at 0x7f4a234d2e8...\n",
       "7          morning  [<song_model.SongModel object at 0x7f4a2348cda0>]\n",
       "8   before_evening  [<song_model.SongModel object at 0x7f4a2349fdd8>]\n",
       "9          evening  [<song_model.SongModel object at 0x7f4a234a6da...\n",
       "10  before_morning  [<song_model.SongModel object at 0x7f4a2346347...\n",
       "11         morning  [<song_model.SongModel object at 0x7f4a2341bb70>]"
      ]
     },
     "execution_count": 8,
     "metadata": {},
     "output_type": "execute_result"
    }
   ],
   "source": [
    "nd"
   ]
  },
  {
   "cell_type": "code",
   "execution_count": 9,
   "metadata": {},
   "outputs": [
    {
     "name": "stdout",
     "output_type": "stream",
     "text": [
      "0\n",
      "1\n",
      "2\n",
      "3\n",
      "4\n",
      "5\n",
      "6\n",
      "7\n",
      "8\n",
      "9\n",
      "10\n",
      "11\n"
     ]
    }
   ],
   "source": [
    "scores = []\n",
    "for i, row in nd.iterrows():\n",
    "    print (i)\n",
    "    scores.append(get_scores(tutor, nd.iloc[i]['pop'], lambda x: bsa_measure(x, sr, coefs=run_param['coefs']), comp))\n",
    "nd['scores'] = scores"
   ]
  },
  {
   "cell_type": "code",
   "execution_count": 10,
   "metadata": {},
   "outputs": [
    {
     "data": {
      "text/html": [
       "<div>\n",
       "<table border=\"1\" class=\"dataframe\">\n",
       "  <thead>\n",
       "    <tr style=\"text-align: right;\">\n",
       "      <th></th>\n",
       "      <th>cond</th>\n",
       "      <th>pop</th>\n",
       "      <th>scores</th>\n",
       "    </tr>\n",
       "  </thead>\n",
       "  <tbody>\n",
       "    <tr>\n",
       "      <th>0</th>\n",
       "      <td>before_evening</td>\n",
       "      <td>[&lt;song_model.SongModel object at 0x7f4a23be3208&gt;]</td>\n",
       "      <td>[244.193518341]</td>\n",
       "    </tr>\n",
       "    <tr>\n",
       "      <th>1</th>\n",
       "      <td>evening</td>\n",
       "      <td>[&lt;song_model.SongModel object at 0x7f4a64c0bc5...</td>\n",
       "      <td>[244.193518341, 244.193518341, 244.193518341, ...</td>\n",
       "    </tr>\n",
       "    <tr>\n",
       "      <th>2</th>\n",
       "      <td>before_morning</td>\n",
       "      <td>[&lt;song_model.SongModel object at 0x7f4a23c2874...</td>\n",
       "      <td>[244.193518341, 244.193518341, 244.193518341, ...</td>\n",
       "    </tr>\n",
       "    <tr>\n",
       "      <th>3</th>\n",
       "      <td>morning</td>\n",
       "      <td>[&lt;song_model.SongModel object at 0x7f4a23506518&gt;]</td>\n",
       "      <td>[244.193518341]</td>\n",
       "    </tr>\n",
       "    <tr>\n",
       "      <th>4</th>\n",
       "      <td>before_evening</td>\n",
       "      <td>[&lt;song_model.SongModel object at 0x7f4a2351a2e8&gt;]</td>\n",
       "      <td>[323.03732896]</td>\n",
       "    </tr>\n",
       "    <tr>\n",
       "      <th>5</th>\n",
       "      <td>evening</td>\n",
       "      <td>[&lt;song_model.SongModel object at 0x7f4a235201d...</td>\n",
       "      <td>[323.03732896, 323.03732896, 323.03732896, 323...</td>\n",
       "    </tr>\n",
       "    <tr>\n",
       "      <th>6</th>\n",
       "      <td>before_morning</td>\n",
       "      <td>[&lt;song_model.SongModel object at 0x7f4a234d2e8...</td>\n",
       "      <td>[238.253473805, 244.701422073, 238.253473805, ...</td>\n",
       "    </tr>\n",
       "    <tr>\n",
       "      <th>7</th>\n",
       "      <td>morning</td>\n",
       "      <td>[&lt;song_model.SongModel object at 0x7f4a2348cda0&gt;]</td>\n",
       "      <td>[238.253473805]</td>\n",
       "    </tr>\n",
       "    <tr>\n",
       "      <th>8</th>\n",
       "      <td>before_evening</td>\n",
       "      <td>[&lt;song_model.SongModel object at 0x7f4a2349fdd8&gt;]</td>\n",
       "      <td>[235.172985039]</td>\n",
       "    </tr>\n",
       "    <tr>\n",
       "      <th>9</th>\n",
       "      <td>evening</td>\n",
       "      <td>[&lt;song_model.SongModel object at 0x7f4a234a6da...</td>\n",
       "      <td>[235.172985039, 235.359972498, 237.119781246, ...</td>\n",
       "    </tr>\n",
       "    <tr>\n",
       "      <th>10</th>\n",
       "      <td>before_morning</td>\n",
       "      <td>[&lt;song_model.SongModel object at 0x7f4a2346347...</td>\n",
       "      <td>[235.172985039, 235.172985039, 235.172985039, ...</td>\n",
       "    </tr>\n",
       "    <tr>\n",
       "      <th>11</th>\n",
       "      <td>morning</td>\n",
       "      <td>[&lt;song_model.SongModel object at 0x7f4a2341bb70&gt;]</td>\n",
       "      <td>[235.172985039]</td>\n",
       "    </tr>\n",
       "  </tbody>\n",
       "</table>\n",
       "</div>"
      ],
      "text/plain": [
       "              cond                                                pop  \\\n",
       "0   before_evening  [<song_model.SongModel object at 0x7f4a23be3208>]   \n",
       "1          evening  [<song_model.SongModel object at 0x7f4a64c0bc5...   \n",
       "2   before_morning  [<song_model.SongModel object at 0x7f4a23c2874...   \n",
       "3          morning  [<song_model.SongModel object at 0x7f4a23506518>]   \n",
       "4   before_evening  [<song_model.SongModel object at 0x7f4a2351a2e8>]   \n",
       "5          evening  [<song_model.SongModel object at 0x7f4a235201d...   \n",
       "6   before_morning  [<song_model.SongModel object at 0x7f4a234d2e8...   \n",
       "7          morning  [<song_model.SongModel object at 0x7f4a2348cda0>]   \n",
       "8   before_evening  [<song_model.SongModel object at 0x7f4a2349fdd8>]   \n",
       "9          evening  [<song_model.SongModel object at 0x7f4a234a6da...   \n",
       "10  before_morning  [<song_model.SongModel object at 0x7f4a2346347...   \n",
       "11         morning  [<song_model.SongModel object at 0x7f4a2341bb70>]   \n",
       "\n",
       "                                               scores  \n",
       "0                                     [244.193518341]  \n",
       "1   [244.193518341, 244.193518341, 244.193518341, ...  \n",
       "2   [244.193518341, 244.193518341, 244.193518341, ...  \n",
       "3                                     [244.193518341]  \n",
       "4                                      [323.03732896]  \n",
       "5   [323.03732896, 323.03732896, 323.03732896, 323...  \n",
       "6   [238.253473805, 244.701422073, 238.253473805, ...  \n",
       "7                                     [238.253473805]  \n",
       "8                                     [235.172985039]  \n",
       "9   [235.172985039, 235.359972498, 237.119781246, ...  \n",
       "10  [235.172985039, 235.172985039, 235.172985039, ...  \n",
       "11                                    [235.172985039]  "
      ]
     },
     "execution_count": 10,
     "metadata": {},
     "output_type": "execute_result"
    }
   ],
   "source": [
    "nd"
   ]
  },
  {
   "cell_type": "code",
   "execution_count": 11,
   "metadata": {
    "collapsed": true
   },
   "outputs": [],
   "source": [
    "songs_score = []\n",
    "for i, row in nd.iterrows():\n",
    "    for song, score in zip(nd.iloc[i]['pop'], nd.iloc[i]['scores']):\n",
    "        songs_score.append({'i': i, 'score': score, 'cond': nd.iloc[i]['cond']})\n",
    "\n",
    "scores_df = pd.DataFrame(songs_score)"
   ]
  },
  {
   "cell_type": "code",
   "execution_count": 12,
   "metadata": {},
   "outputs": [
    {
     "data": {
      "text/plain": [
       "<matplotlib.collections.PathCollection at 0x7f4a23bea0f0>"
      ]
     },
     "execution_count": 12,
     "metadata": {},
     "output_type": "execute_result"
    },
    {
     "data": {
      "image/png": "[encoded data removed]",
      "text/plain": [
       "<matplotlib.figure.Figure at 0x7f4a23be3160>"
      ]
     },
     "metadata": {},
     "output_type": "display_data"
    }
   ],
   "source": [
    "plt.figure(figsize=(14, 6))\n",
    "plt.scatter(scores_df['i'], scores_df['score'])"
   ]
  },
  {
   "cell_type": "code",
   "execution_count": 13,
   "metadata": {
    "collapsed": true
   },
   "outputs": [],
   "source": [
    "songs = nd.iloc[2]['pop']"
   ]
  },
  {
   "cell_type": "code",
   "execution_count": 14,
   "metadata": {
    "collapsed": true
   },
   "outputs": [],
   "source": [
    "from bisect import bisect_left"
   ]
  },
  {
   "cell_type": "code",
   "execution_count": 15,
   "metadata": {},
   "outputs": [],
   "source": [
    "nb_close = 0\n",
    "for isong, song in enumerate(songs[1:]):\n",
    "    song_dist = 0\n",
    "    other = [gesture[0] for gesture in song.gestures]\n",
    "    for i, gesture in enumerate(songs[0].gestures):\n",
    "        start = gesture[0]\n",
    "        near_i = bisect_left(other, start)\n",
    "        if near_i >= len(other) - 1:\n",
    "            near_i = len(other) - 2\n",
    "        cur_dist = np.min((np.abs(start - other[near_i]), np.abs(start - other[near_i+1])))\n",
    "        song_dist += cur_dist\n",
    "    if song_dist < 2000:\n",
    "        nb_close += 1\n"
   ]
  },
  {
   "cell_type": "code",
   "execution_count": null,
   "metadata": {
    "collapsed": true
   },
   "outputs": [],
   "source": []
  }
 ],
 "metadata": {
  "kernelspec": {
   "display_name": "Python 3",
   "language": "python",
   "name": "python3"
  },
  "language_info": {
   "codemirror_mode": {
    "name": "ipython",
    "version": 3
   },
   "file_extension": ".py",
   "mimetype": "text/x-python",
   "name": "python",
   "nbconvert_exporter": "python",
   "pygments_lexer": "ipython3",
   "version": "3.5.3"
  }
 },
 "nbformat": 4,
 "nbformat_minor": 2
}
