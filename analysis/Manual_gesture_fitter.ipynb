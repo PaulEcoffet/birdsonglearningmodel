{
 "cells": [
  {
   "cell_type": "code",
   "execution_count": 3,
   "metadata": {
    "collapsed": true
   },
   "outputs": [],
   "source": [
    "%matplotlib inline\n",
    "\n",
    "import ipywidgets as w\n",
    "import numpy as np\n",
    "import matplotlib.pyplot as plt\n",
    "import seaborn as sns\n",
    "from collections import OrderedDict"
   ]
  },
  {
   "cell_type": "code",
   "execution_count": 4,
   "metadata": {
    "collapsed": true
   },
   "outputs": [],
   "source": [
    "def f(x, p, nb_sin=3):\n",
    "    ip = np.nditer(p)\n",
    "    return np.sum([(next(ip) * x + next(ip)) * np.sin(next(ip) + (2*np.pi * x) * next(ip))\n",
    "                     for i in range(nb_sin)] + [next(ip)], axis=0)\n",
    "\n",
    "\n",
    "def _alphaf(x, p):\n",
    "        x = x/44100\n",
    "        return f(x, p, 3)\n",
    "    \n",
    "par = {}\n",
    "params_def = [(0, 10, 0.01), (0, 10, 0.01), (0, np.pi), (0, 3000, 10)] * 3 + [(0, 10, 0.1)]\n",
    "for i in range(len(params_def)):\n",
    "    key = chr(ord('a') + i)\n",
    "    par[key] = params_def[i]\n",
    "\n",
    "par = OrderedDict(sorted(par.items(), key=lambda t: t[0]))"
   ]
  },
  {
   "cell_type": "code",
   "execution_count": 5,
   "metadata": {
    "collapsed": true
   },
   "outputs": [],
   "source": [
    "goal = np.loadtxt('../data/ba_syllable_a_end_ab.dat')"
   ]
  },
  {
   "cell_type": "code",
   "execution_count": 6,
   "metadata": {
    "collapsed": true
   },
   "outputs": [],
   "source": [
    "def tune(a=0, b=1, c=1, d=300,\n",
    "          a2=1, b2=1, c2=1, d2=600,\n",
    "          a3=1, b3=1, c3=1, d3=1200,\n",
    "          cst=6):\n",
    "    p = np.array([a, b, c, d, a2, b2, c2, d2, a3, b3, c3, d3, cst])\n",
    "    plt.figure(figsize=(15, 7))\n",
    "    plt.plot(goal[:, 0])\n",
    "    plt.plot(_alphaf(np.arange(goal.shape[0]), p))\n",
    "    plt.ylim((0, 10))\n",
    "    plt.show()"
   ]
  },
  {
   "cell_type": "code",
   "execution_count": 7,
   "metadata": {},
   "outputs": [
    {
     "data": {
      "application/vnd.jupyter.widget-view+json": {
       "model_id": "7858efaaaa8b4a1280f9b141bb7e8d65"
      }
     },
     "metadata": {},
     "output_type": "display_data"
    },
    {
     "data": {
      "text/plain": [
       "<function __main__.tune>"
      ]
     },
     "execution_count": 7,
     "metadata": {},
     "output_type": "execute_result"
    }
   ],
   "source": [
    "w.interact(tune,\n",
    "          a=(-100, 100, 0.01), b=(-10, 10, 0.01), c=(0, np.pi), d=(0, 3000, 10),\n",
    "          a2=(-100, 100, 0.01), b2=(-10, 10, 0.01), c2=(0, np.pi), d2=(0, 3000, 10),\n",
    "          a3=(-100, 100, 0.01), b3=(-10, 10, 0.01), c3=(0, np.pi), d3=(0, 3000, 10),\n",
    "          cst=(0, 10, 0.1))"
   ]
  },
  {
   "cell_type": "code",
   "execution_count": null,
   "metadata": {
    "collapsed": true
   },
   "outputs": [],
   "source": []
  },
  {
   "cell_type": "code",
   "execution_count": null,
   "metadata": {
    "collapsed": true
   },
   "outputs": [],
   "source": []
  }
 ],
 "metadata": {
  "kernelspec": {
   "display_name": "Python 3",
   "language": "python",
   "name": "python3"
  },
  "language_info": {
   "codemirror_mode": {
    "name": "ipython",
    "version": 3
   },
   "file_extension": ".py",
   "mimetype": "text/x-python",
   "name": "python",
   "nbconvert_exporter": "python",
   "pygments_lexer": "ipython3",
   "version": "3.5.3"
  },
  "widgets": {
   "state": {
    "bc23370cda2b459685eda5f589b2d570": {
     "views": [
      {
       "cell_index": 4
      }
     ]
    }
   },
   "version": "1.2.0"
  }
 },
 "nbformat": 4,
 "nbformat_minor": 2
}
