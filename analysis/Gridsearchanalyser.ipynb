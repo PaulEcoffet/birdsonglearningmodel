{
 "cells": [
  {
   "cell_type": "code",
   "execution_count": 1,
   "metadata": {},
   "outputs": [
    {
     "name": "stdout",
     "output_type": "stream",
     "text": [
      "Using matplotlib backend: TkAgg\n",
      "Populating the interactive namespace from numpy and matplotlib\n"
     ]
    }
   ],
   "source": [
    "%pylab --no-import-all\n",
    "%matplotlib inline\n",
    "import seaborn as sns\n",
    "import sys\n",
    "import pandas as pd\n",
    "from ipywidgets import widgets\n",
    "from IPython.display import Markdown, display, clear_output, Audio\n",
    "import os\n",
    "from os.path import join, isdir\n",
    "from glob import iglob\n",
    "import json\n",
    "from pprint import pformat\n",
    "import utils\n",
    "import pickle\n",
    "import io\n",
    "import base64\n",
    "from scipy.io import wavfile\n",
    "import birdsonganalysis as bsa\n",
    "\n",
    "sys.path.append('../model')\n",
    "\n",
    "from song_model import SongModel\n",
    "\n",
    "sns.set_palette('colorblind')"
   ]
  },
  {
   "cell_type": "code",
   "execution_count": 2,
   "metadata": {
    "collapsed": true
   },
   "outputs": [],
   "source": [
    "gridpath = '../model/res/diversity_170518_165814/'\n",
    "run_paths = sorted([run_path for run_path in iglob(join(gridpath, '*')) if isdir(run_path)])\n",
    "\n",
    "gridanalysis = utils.GridAnalyser(run_paths)"
   ]
  },
  {
   "cell_type": "code",
   "execution_count": 3,
   "metadata": {},
   "outputs": [
    {
     "data": {
      "text/markdown": [
       "# Run description\n",
       "\n",
       "## Goals\n",
       "\n",
       "-\n",
       "\n",
       "## What have changed compared to previous runs?\n",
       "\n",
       "-\n",
       "\n",
       "## Expected Results (Success condition)\n",
       "\n",
       "-\n",
       "\n",
       "<!-- ## Notes -->\n"
      ],
      "text/plain": [
       "<IPython.core.display.Markdown object>"
      ]
     },
     "metadata": {},
     "output_type": "display_data"
    }
   ],
   "source": [
    "with open(join(gridpath, 'desc.md')) as f:\n",
    "    display(Markdown(f.read()))"
   ]
  },
  {
   "cell_type": "code",
   "execution_count": 4,
   "metadata": {
    "scrolled": true
   },
   "outputs": [
    {
     "data": {
      "application/vnd.jupyter.widget-view+json": {
       "model_id": "3278316aa63149baa93c54da13d5db2c"
      }
     },
     "metadata": {},
     "output_type": "display_data"
    },
    {
     "data": {
      "application/vnd.jupyter.widget-view+json": {
       "model_id": "fc940391082e43a3897d89a9b7f1076a"
      }
     },
     "metadata": {},
     "output_type": "display_data"
    },
    {
     "data": {
      "application/vnd.jupyter.widget-view+json": {
       "model_id": "9bb34e145bcb43719daf81d9e8207699"
      }
     },
     "metadata": {},
     "output_type": "display_data"
    },
    {
     "data": {
      "application/vnd.jupyter.widget-view+json": {
       "model_id": "34d6a34f3f624722bd8835089a893bcb"
      }
     },
     "metadata": {},
     "output_type": "display_data"
    },
    {
     "data": {
      "application/vnd.jupyter.widget-view+json": {
       "model_id": "cb4e54a137bb4c4b902faac517b6236b"
      }
     },
     "metadata": {},
     "output_type": "display_data"
    },
    {
     "data": {
      "application/vnd.jupyter.widget-view+json": {
       "model_id": "fdefee8a2c8e4183af09b41ff812c02b"
      }
     },
     "metadata": {},
     "output_type": "display_data"
    },
    {
     "data": {
      "application/vnd.jupyter.widget-view+json": {
       "model_id": "e978f218b63f4eb5b99564d5c6885a77"
      }
     },
     "metadata": {},
     "output_type": "display_data"
    },
    {
     "data": {
      "application/vnd.jupyter.widget-view+json": {
       "model_id": "753478d345af46bda8ec420c802d250c"
      }
     },
     "metadata": {},
     "output_type": "display_data"
    },
    {
     "data": {
      "application/vnd.jupyter.widget-view+json": {
       "model_id": "2caf6130d0da43758f5c17cce1c11a04"
      }
     },
     "metadata": {},
     "output_type": "display_data"
    },
    {
     "data": {
      "application/vnd.jupyter.widget-view+json": {
       "model_id": "df77b6150fb24ba8831fc7642ebf02b5"
      }
     },
     "metadata": {},
     "output_type": "display_data"
    },
    {
     "data": {
      "application/vnd.jupyter.widget-view+json": {
       "model_id": "7ae257c3ba1648f6a74fa4d3891be33c"
      }
     },
     "metadata": {},
     "output_type": "display_data"
    },
    {
     "data": {
      "application/vnd.jupyter.widget-view+json": {
       "model_id": "606a54f24a1a4d818811c357cf34adef"
      }
     },
     "metadata": {},
     "output_type": "display_data"
    }
   ],
   "source": [
    "sns.set_context('poster')\n",
    "\n",
    "vbox = widgets.VBox()\n",
    "\n",
    "out = widgets.HTML()\n",
    "\n",
    "tbs = []\n",
    "for options in gridanalysis.options_list:\n",
    "    tb = widgets.ToggleButtons()\n",
    "    tb.options = sorted(list(options))\n",
    "    display(tb)\n",
    "    tbs.append(tb)\n",
    "\n",
    "def find_id(value):\n",
    "    out.value = 'looking'\n",
    "    v = 'Not Found'\n",
    "    for i in range(len(gridanalysis.run_paths)):\n",
    "        if gridanalysis.conf[i]['name'] == '+'.join([tb.value for tb in tbs]):\n",
    "            slider.value = i\n",
    "            v = 'Found'\n",
    "            break\n",
    "    out.value = v\n",
    "slider = widgets.IntSlider(min=0, max=len(run_paths)-1)\n",
    "slider.observe(lambda x: gridanalysis.show(x['new'], vbox), names='value')\n",
    "display(out)\n",
    "display(slider)\n",
    "display(vbox)\n",
    "\n",
    "gridanalysis.show(slider.value, vbox)\n",
    "\n",
    "for tb in tbs:\n",
    "    tb.observe(lambda x: find_id(x['new']), names='value')"
   ]
  },
  {
   "cell_type": "code",
   "execution_count": 5,
   "metadata": {},
   "outputs": [
    {
     "data": {
      "application/vnd.jupyter.widget-view+json": {
       "model_id": "7ae257c3ba1648f6a74fa4d3891be33c"
      }
     },
     "metadata": {},
     "output_type": "display_data"
    }
   ],
   "source": [
    "display(slider)"
   ]
  },
  {
   "cell_type": "code",
   "execution_count": null,
   "metadata": {
    "collapsed": true
   },
   "outputs": [],
   "source": []
  },
  {
   "cell_type": "code",
   "execution_count": null,
   "metadata": {
    "collapsed": true
   },
   "outputs": [],
   "source": []
  }
 ],
 "metadata": {
  "kernelspec": {
   "display_name": "Python 3",
   "language": "python",
   "name": "python3"
  },
  "language_info": {
   "codemirror_mode": {
    "name": "ipython",
    "version": 3
   },
   "file_extension": ".py",
   "mimetype": "text/x-python",
   "name": "python",
   "nbconvert_exporter": "python",
   "pygments_lexer": "ipython3",
   "version": "3.5.3"
  },
  "widgets": {
   "state": {
    "213dc6a74a30427eb933c54849c560e2": {
     "views": [
      {
       "cell_index": 4
      }
     ]
    },
    "24eff04fb09442c884f2e5b745ee3117": {
     "views": [
      {
       "cell_index": 3
      }
     ]
    },
    "3b7ad9e8bc3a41cba23231e47a6b8cf7": {
     "views": [
      {
       "cell_index": 3
      }
     ]
    },
    "445d2b52aeab45b3acc50bce5bed2a22": {
     "views": [
      {
       "cell_index": 3
      }
     ]
    },
    "46aefde592ad4a63adc53cb055c842ac": {
     "views": [
      {
       "cell_index": 3
      }
     ]
    },
    "4d07908ca95049d991852a0847450e60": {
     "views": [
      {
       "cell_index": 3
      }
     ]
    },
    "6ba5c7bbb6584717bf5a0042f8782d0b": {
     "views": [
      {
       "cell_index": 3
      }
     ]
    },
    "835efa3f62a04b49a07099f5736044df": {
     "views": [
      {
       "cell_index": 3
      }
     ]
    },
    "b23cef4771f74a18940c75f2f9d44613": {
     "views": [
      {
       "cell_index": 3
      }
     ]
    },
    "d8439e32423f4a00b9c30987a2b7d2bc": {
     "views": [
      {
       "cell_index": 3
      }
     ]
    },
    "d999a9d8771e482ca1d01ec3741143bc": {
     "views": [
      {
       "cell_index": 3
      }
     ]
    },
    "de8bc7fb9ea7402f8ac500fc8189216f": {
     "views": [
      {
       "cell_index": 3
      }
     ]
    },
    "f2c38dd7950d49429273aa157ebddab6": {
     "views": [
      {
       "cell_index": 3
      }
     ]
    }
   },
   "version": "1.2.0"
  }
 },
 "nbformat": 4,
 "nbformat_minor": 2
}
