{
 "cells": [
  {
   "cell_type": "code",
   "execution_count": 1,
   "metadata": {
    "collapsed": false,
    "deletable": true,
    "editable": true
   },
   "outputs": [
    {
     "name": "stdout",
     "output_type": "stream",
     "text": [
      "Using matplotlib backend: TkAgg\n",
      "Populating the interactive namespace from numpy and matplotlib\n"
     ]
    }
   ],
   "source": [
    "%pylab --no-import-all\n",
    "%matplotlib inline\n",
    "import seaborn as sns\n",
    "import sys\n",
    "import pandas as pd\n",
    "from ipywidgets import widgets\n",
    "from IPython.display import Markdown, display, clear_output, Audio\n",
    "import os\n",
    "from os.path import join, isdir\n",
    "from glob import iglob\n",
    "import json\n",
    "from pprint import pformat\n",
    "import utils\n",
    "import pickle\n",
    "import io\n",
    "import base64\n",
    "from scipy.io import wavfile\n",
    "import birdsonganalysis as bsa\n",
    "\n",
    "sys.path.append('../model')\n",
    "\n",
    "from song_model import SongModel\n",
    "\n",
    "sns.set_palette('colorblind')"
   ]
  },
  {
   "cell_type": "code",
   "execution_count": 17,
   "metadata": {
    "collapsed": false,
    "deletable": true,
    "editable": true
   },
   "outputs": [
    {
     "name": "stdout",
     "output_type": "stream",
     "text": [
      "['10_conc', 'slow_dev', 'default_coef', 'big_ba', '1_replay', 'on_alpha_on_beta']\n",
      "['10_conc', 'slow_dev', 'default_coef', 'big_ba', '1_replay', 'on_alpha_silence_beta']\n",
      "['10_conc', 'slow_dev', 'default_coef', 'big_ba', '1_replay', 'on_alpha_zero_beta']\n",
      "['10_conc', 'slow_dev', 'default_coef', 'big_ba', '20_replay', 'on_alpha_on_beta']\n",
      "['10_conc', 'slow_dev', 'default_coef', 'big_ba', '20_replay', 'on_alpha_silence_beta']\n",
      "['10_conc', 'slow_dev', 'default_coef', 'big_ba', '20_replay', 'on_alpha_zero_beta']\n",
      "['10_conc', 'slow_dev', 'default_coef', 'big_ba', '5_replay', 'on_alpha_on_beta']\n",
      "['10_conc', 'slow_dev', 'default_coef', 'big_ba', '5_replay', 'on_alpha_silence_beta']\n",
      "['10_conc', 'slow_dev', 'default_coef', 'big_ba', '5_replay', 'on_alpha_zero_beta']\n",
      "['10_conc', 'slow_dev', 'default_coef', 'big_ba_whole', '5_replay', 'on_alpha_on_beta']\n",
      "['10_conc', 'slow_dev', 'default_coef', 'big_ba_whole', '5_replay', 'on_alpha_silence_beta']\n",
      "['10_conc', 'slow_dev', 'default_coef', 'big_ba_whole', '5_replay', 'on_alpha_zero_beta']\n"
     ]
    }
   ],
   "source": [
    "gridpath = '../model/res/super_concurrent_170413_113450//'\n",
    "run_paths = sorted([run_path for run_path in iglob(join(gridpath, '*')) if isdir(run_path)])\n",
    "\n",
    "gridanalysis = utils.GridAnalyser(run_paths)"
   ]
  },
  {
   "cell_type": "code",
   "execution_count": 18,
   "metadata": {
    "collapsed": false,
    "deletable": true,
    "editable": true
   },
   "outputs": [
    {
     "ename": "FileNotFoundError",
     "evalue": "[Errno 2] No such file or directory: '../model/res/super_concurrent_170413_113450//desc.md'",
     "output_type": "error",
     "traceback": [
      "\u001b[0;31m---------------------------------------------------------------------------\u001b[0m",
      "\u001b[0;31mFileNotFoundError\u001b[0m                         Traceback (most recent call last)",
      "\u001b[0;32m<ipython-input-18-d783ef12e441>\u001b[0m in \u001b[0;36m<module>\u001b[0;34m()\u001b[0m\n\u001b[0;32m----> 1\u001b[0;31m \u001b[0;32mwith\u001b[0m \u001b[0mopen\u001b[0m\u001b[0;34m(\u001b[0m\u001b[0mjoin\u001b[0m\u001b[0;34m(\u001b[0m\u001b[0mgridpath\u001b[0m\u001b[0;34m,\u001b[0m \u001b[0;34m'desc.md'\u001b[0m\u001b[0;34m)\u001b[0m\u001b[0;34m)\u001b[0m \u001b[0;32mas\u001b[0m \u001b[0mf\u001b[0m\u001b[0;34m:\u001b[0m\u001b[0;34m\u001b[0m\u001b[0m\n\u001b[0m\u001b[1;32m      2\u001b[0m     \u001b[0mdisplay\u001b[0m\u001b[0;34m(\u001b[0m\u001b[0mMarkdown\u001b[0m\u001b[0;34m(\u001b[0m\u001b[0mf\u001b[0m\u001b[0;34m.\u001b[0m\u001b[0mread\u001b[0m\u001b[0;34m(\u001b[0m\u001b[0;34m)\u001b[0m\u001b[0;34m)\u001b[0m\u001b[0;34m)\u001b[0m\u001b[0;34m\u001b[0m\u001b[0m\n",
      "\u001b[0;31mFileNotFoundError\u001b[0m: [Errno 2] No such file or directory: '../model/res/super_concurrent_170413_113450//desc.md'"
     ]
    }
   ],
   "source": [
    "with open(join(gridpath, 'desc.md')) as f:\n",
    "    display(Markdown(f.read()))"
   ]
  },
  {
   "cell_type": "code",
   "execution_count": 19,
   "metadata": {
    "collapsed": false,
    "deletable": true,
    "editable": true,
    "scrolled": false
   },
   "outputs": [
    {
     "data": {
      "application/vnd.jupyter.widget-view+json": {
       "model_id": "9fed87387f5441f19496cca39185afa7"
      }
     },
     "metadata": {},
     "output_type": "display_data"
    },
    {
     "data": {
      "application/vnd.jupyter.widget-view+json": {
       "model_id": "c87379ae026142659b9f4254c7f16f7e"
      }
     },
     "metadata": {},
     "output_type": "display_data"
    },
    {
     "data": {
      "application/vnd.jupyter.widget-view+json": {
       "model_id": "abfd87c23f5d4644b246c43be92694d6"
      }
     },
     "metadata": {},
     "output_type": "display_data"
    },
    {
     "data": {
      "application/vnd.jupyter.widget-view+json": {
       "model_id": "1049d85eb1644bf39ad59d3bf8beab8c"
      }
     },
     "metadata": {},
     "output_type": "display_data"
    },
    {
     "data": {
      "application/vnd.jupyter.widget-view+json": {
       "model_id": "dd5594a3adca4e0683b5d1e36019dc4d"
      }
     },
     "metadata": {},
     "output_type": "display_data"
    },
    {
     "data": {
      "application/vnd.jupyter.widget-view+json": {
       "model_id": "26fbc3b27f7947b18c88501584ca4965"
      }
     },
     "metadata": {},
     "output_type": "display_data"
    },
    {
     "data": {
      "application/vnd.jupyter.widget-view+json": {
       "model_id": "445b47a0b7744149ae1eded600057b59"
      }
     },
     "metadata": {},
     "output_type": "display_data"
    },
    {
     "data": {
      "application/vnd.jupyter.widget-view+json": {
       "model_id": "05b6b1924dca4a6b82a03be0cdfe15c3"
      }
     },
     "metadata": {},
     "output_type": "display_data"
    }
   ],
   "source": [
    "vbox = widgets.VBox()\n",
    "\n",
    "tbs = []\n",
    "for options in gridanalysis.options_list:\n",
    "    tb = widgets.ToggleButtons()\n",
    "    tb.options = list(options)\n",
    "    display(tb)\n",
    "    tbs.append(tb)\n",
    "\n",
    "def find_id(value):\n",
    "    for i in range(len(gridanalysis.run_paths)):\n",
    "        if gridanalysis.conf[i]['name'] == '+'.join([tb.value for tb in tbs]):\n",
    "            slider.value = i\n",
    "            break\n",
    "\n",
    "slider = widgets.IntSlider(min=0, max=len(run_paths)-1)\n",
    "slider.observe(lambda x: gridanalysis.show(x['new'], vbox), names='value')\n",
    "display(slider)\n",
    "display(vbox)\n",
    "\n",
    "for tb in tbs:\n",
    "    tb.observe(lambda x: find_id(x['new']), names='value')"
   ]
  },
  {
   "cell_type": "code",
   "execution_count": 20,
   "metadata": {
    "collapsed": false,
    "deletable": true,
    "editable": true
   },
   "outputs": [
    {
     "data": {
      "application/vnd.jupyter.widget-view+json": {
       "model_id": "445b47a0b7744149ae1eded600057b59"
      }
     },
     "metadata": {},
     "output_type": "display_data"
    }
   ],
   "source": [
    "display(slider)"
   ]
  },
  {
   "cell_type": "code",
   "execution_count": null,
   "metadata": {
    "collapsed": true,
    "deletable": true,
    "editable": true
   },
   "outputs": [],
   "source": []
  },
  {
   "cell_type": "code",
   "execution_count": null,
   "metadata": {
    "collapsed": true,
    "deletable": true,
    "editable": true
   },
   "outputs": [],
   "source": []
  }
 ],
 "metadata": {
  "kernelspec": {
   "display_name": "Python 3",
   "language": "python",
   "name": "python3"
  },
  "language_info": {
   "codemirror_mode": {
    "name": "ipython",
    "version": 3
   },
   "file_extension": ".py",
   "mimetype": "text/x-python",
   "name": "python",
   "nbconvert_exporter": "python",
   "pygments_lexer": "ipython3",
   "version": "3.5.2+"
  }
 },
 "nbformat": 4,
 "nbformat_minor": 2
}
